{
  "nbformat": 4,
  "nbformat_minor": 0,
  "metadata": {
    "colab": {
      "provenance": []
    },
    "kernelspec": {
      "name": "python3",
      "display_name": "Python 3"
    },
    "language_info": {
      "name": "python"
    }
  },
  "cells": [
    {
      "cell_type": "code",
      "execution_count": null,
      "metadata": {
        "id": "oCwlyjC4hldl"
      },
      "outputs": [],
      "source": [
        "import spacy\n",
        "import random\n",
        "from collections import Counter"
      ]
    },
    {
      "cell_type": "code",
      "source": [
        "text='''\n",
        "The Greek historian knew what he was talking about. The Nile River fed Egyptian civilization for hundreds of years. The Longest River the Nile is 4,160 miles long—the world's longest river. It begins near the equator in Africa and flows north to the Mediterranean Sea. In the south the Nile churns with cataracts. A cataract is a waterfall. Near the sea the Nile branches into a delta. A delta is an area near a river's mouth where the water deposits fine soil called silt. In the delta, the Nile divides into many streams. The river is called the upper Nile in the south and the lower Nile in the north. For centuries, heavy rains in Ethiopia caused the Nile to flood every summer. The floods deposited rich soil along the Nile's shores. This soil was fertile, which means it was good for growing crops. Unlike the Tigris and Euphrates, the Nile River flooded at the same time every year, so farmers could predict when to plant their crops.'''\n",
        "num_questions=5\n",
        "#text=text.lower()"
      ],
      "metadata": {
        "id": "amQ7oo4lhtg5"
      },
      "execution_count": null,
      "outputs": []
    },
    {
      "cell_type": "code",
      "source": [
        "nlp=spacy.load('en_core_web_sm')"
      ],
      "metadata": {
        "id": "UCoKrOVcivp7"
      },
      "execution_count": null,
      "outputs": []
    },
    {
      "cell_type": "code",
      "source": [
        "def generate_mcqs(text,num_questions):\n",
        "  doc=nlp(text)\n",
        "  sentences=[sent.text for sent in doc.sents]\n",
        "  selected_sentences=random.sample(sentences,(min(num_questions,len(sentences))))\n",
        "  mcqs=[]\n",
        "  for sentence in selected_sentences:\n",
        "    sent_doc=nlp(sentence)\n",
        "    nouns=[token.text for token in sent_doc if token.pos_=='NOUN']\n",
        "    if(len(nouns)<2):\n",
        "      continue\n",
        "    noun_counts=Counter(nouns)\n",
        "    if noun_counts:\n",
        "      subject=noun_counts.most_common(1)[0][0]\n",
        "      answer_choices=[subject]\n",
        "      question_stem=sentence.replace(subject,\"_______\")\n",
        "      distractors=random.sample(list(set(nouns)-{subject}),3)\n",
        "      while(len(distractors)<3):\n",
        "          distractors.append(\"[Distractors]\")\n",
        "      random.shuffle(distractors)\n",
        "      for distractor in distractors:\n",
        "          answer_choices.append(distractor)\n",
        "      random.shuffle(answer_choices)\n",
        "      correct_answer=chr(64+answer_choices.index(subject)+1)\n",
        "      mcqs.append((question_stem,answer_choices,correct_answer))\n",
        "  return mcqs"
      ],
      "metadata": {
        "id": "L-keZ4pYy2KC"
      },
      "execution_count": null,
      "outputs": []
    },
    {
      "cell_type": "code",
      "source": [
        "text='''\n",
        "The economy, at its core, represents the intricate web of human activities related to the production, distribution, and consumption of goods and services. It is a dynamic system, constantly evolving due to technological advancements, shifting consumer preferences, and geopolitical events. Economic prosperity is often measured by indicators like Gross Domestic Product (GDP), which reflects the total value of everything produced within a country's borders. However, GDP alone doesn't capture income inequality or environmental sustainability, crucial aspects of true societal well-being. Inflation, the rate at which prices rise, erodes purchasing power and can destabilize an economy if not managed effectively. Conversely, deflation, a sustained decrease in prices, can also be detrimental, leading to reduced spending and investment. Central banks play a critical role in managing these forces through monetary policy, primarily by adjusting interest rates. Fiscal policy, on the other hand, involves government spending and taxation decisions, influencing aggregate demand and resource allocation. The global economy is characterized by increasing interdependence, with international trade and capital flows linking nations more closely than ever before. Supply chains now span continents, making economies vulnerable to disruptions in distant lands. Emerging markets are increasingly significant players, driving global growth and innovation. The informal economy, though often unmeasured, provides livelihoods for millions and contributes substantially to many nations' economic activity. Technological innovation, particularly digitalization, is transforming industries, creating new jobs, and simultaneously displacing others. Automation and artificial intelligence are reshaping the future of work, posing both opportunities and challenges. Education and human capital development are paramount for a thriving economy, equipping individuals with the skills needed for a rapidly changing landscape. Entrepreneurship is a vital engine of growth, fostering innovation and job creation. Investment in infrastructure, from transportation networks to digital connectivity, is crucial for enhancing productivity and competitiveness. Sustainable economic development integrates environmental protection with economic progress, ensuring resources are preserved for future generations. The distribution of wealth and income significantly impacts social cohesion and overall economic stability. Effective regulation is necessary to prevent market failures and protect consumers and the environment. Geopolitical stability is a prerequisite for sustained economic growth, as conflicts can disrupt trade and deter investment. Consumer confidence is a key driver of economic activity, influencing spending patterns and business decisions. Businesses, from small enterprises to multinational corporations, are the primary actors in production and innovation. Labor markets reflect the availability of jobs and the skills of the workforce, directly impacting individual livelihoods. Access to credit and financial services is essential for both businesses and individuals to invest and consume. Government debt levels can impact future economic flexibility and the ability to respond to crises. Demographic shifts, such as aging populations, present unique economic challenges and opportunities. Understanding these interconnected elements is crucial for policymakers seeking to foster inclusive and sustainable economic growth. Ultimately, a healthy economy aims to improve the living standards and well-being of all its citizens.'''\n",
        "results=generate_mcqs(text,num_questions=5)\n",
        "\n",
        "for i,mcq in enumerate(results,start=1):\n",
        "  question_stem,answer_choices,correct_answer=mcq\n",
        "  print(f\"Question {i}:{question_stem}\")\n",
        "  for j,choice in enumerate(answer_choices,start=1):\n",
        "    print(f\"{chr(64+j)}.{choice}\")\n",
        "  print(f\"Correct Answer: {correct_answer}\")\n",
        "  print(\"=========================================\")"
      ],
      "metadata": {
        "colab": {
          "base_uri": "https://localhost:8080/"
        },
        "id": "nGp0DgBhyU09",
        "outputId": "ab17a715-01ea-4c48-aaba-961ab757082d"
      },
      "execution_count": null,
      "outputs": [
        {
          "output_type": "stream",
          "name": "stdout",
          "text": [
            "Question 1:Fiscal _______, on the other hand, involves government spending and taxation decisions, influencing aggregate demand and resource allocation.\n",
            "A.hand\n",
            "B.spending\n",
            "C.policy\n",
            "D.government\n",
            "Correct Answer: C\n",
            "=========================================\n",
            "Question 2:\n",
            "The _______, at its core, represents the intricate web of human activities related to the production, distribution, and consumption of goods and services.\n",
            "A.economy\n",
            "B.distribution\n",
            "C.consumption\n",
            "D.activities\n",
            "Correct Answer: A\n",
            "=========================================\n",
            "Question 3:It is a dynamic _______, constantly evolving due to technological advancements, shifting consumer preferences, and geopolitical events.\n",
            "A.events\n",
            "B.advancements\n",
            "C.system\n",
            "D.preferences\n",
            "Correct Answer: C\n",
            "=========================================\n",
            "Question 4:Ultimately, a healthy _______ aims to improve the living standards and well-being of all its citizens.\n",
            "A.standards\n",
            "B.economy\n",
            "C.living\n",
            "D.being\n",
            "Correct Answer: B\n",
            "=========================================\n",
            "Question 5:_______ is a vital engine of growth, fostering innovation and job creation.\n",
            "A.Entrepreneurship\n",
            "B.job\n",
            "C.creation\n",
            "D.innovation\n",
            "Correct Answer: A\n",
            "=========================================\n"
          ]
        }
      ]
    },
    {
      "cell_type": "code",
      "source": [],
      "metadata": {
        "id": "uPw3WDMq1Wap"
      },
      "execution_count": null,
      "outputs": []
    }
  ]
}